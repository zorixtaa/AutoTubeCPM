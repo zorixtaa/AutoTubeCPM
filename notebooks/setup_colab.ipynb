{
 "cells": [
  {
   "cell_type": "markdown",
   "metadata": {},
   "source": [
    "# AutoTubeCPM - Configuration et Installation\n",
    "\n",
    "Ce notebook permet de configurer l'environnement Google Colab pour exécuter le système AutoTubeCPM. Il installe toutes les dépendances nécessaires et configure les accès aux API requises."
   ]
  },
  {
   "cell_type": "markdown",
   "metadata": {},
   "source": [
    "## 1. Cloner le dépôt GitHub"
   ]
  },
  {
   "cell_type": "code",
   "execution_count": null,
   "metadata": {},
   "outputs": [],
   "source": [
    "!git clone https://github.com/zorixtaa/AutoTubeCPM1\n",
    "%cd AutoTubeCPM"
   ]
  },
  {
   "cell_type": "markdown",
   "metadata": {},
   "source": [
    "## 2. Installation des dépendances"
   ]
  },
  {
   "cell_type": "code",
   "execution_count": null,
   "metadata": {},
   "outputs": [],
   "source": [
    "!pip install -r requirements.txt"
   ]
  },
  {
   "cell_type": "markdown",
   "metadata": {},
   "source": [
    "## 3. Installation de Kokoro TTS"
   ]
  },
  {
   "cell_type": "code",
   "execution_count": null,
   "metadata": {},
   "outputs": [],
   "source": [
    "!pip install git+https://github.com/PolyAI-LDN/kokoro"
   ]
  },
  {
   "cell_type": "markdown",
   "metadata": {},
   "source": [
    "## 4. Connexion à Google Drive\n",
    "\n",
    "Pour stocker les fichiers générés et les données persistantes"
   ]
  },
  {
   "cell_type": "code",
   "execution_count": null,
   "metadata": {},
   "outputs": [],
   "source": [
    "from google.colab import drive\n",
    "drive.mount('/content/drive')\n",
    "\n",
    "# Créer le dossier AutoTubeCPM s'il n'existe pas\n",
    "!mkdir -p /content/drive/MyDrive/AutoTubeCPM/{data,output,models,credentials}"
   ]
  },
  {
   "cell_type": "markdown",
   "metadata": {},
   "source": [
    "## 5. Configuration des API\n",
    "\n",
    "### 5.1 YouTube API"
   ]
  },
  {
   "cell_type": "code",
   "execution_count": null,
   "metadata": {},
   "outputs": [],
   "source": [
    "# Télécharger le fichier client_secrets.json dans le dossier credentials\n",
    "from google.colab import files\n",
    "uploaded = files.upload()\n",
    "!mv client_secrets.json /content/drive/MyDrive/AutoTubeCPM/credentials/"
   ]
  },
  {
   "cell_type": "markdown",
   "metadata": {},
   "source": [
    "### 5.2 Pexels API"
   ]
  },
  {
   "cell_type": "code",
   "execution_count": null,
   "metadata": {},
   "outputs": [],
   "source": [
    "import os\n",
    "from dotenv import load_dotenv\n",
    "\n",
    "# Créer le fichier .env s'il n'existe pas\n",
    "env_path = '/content/drive/MyDrive/AutoTubeCPM/credentials/.env'\n",
    "if not os.path.exists(env_path):\n",
    "    with open(env_path, 'w') as f:\n",
    "        f.write('PEXELS_API_KEY=votre_clé_api_pexels\\n')\n",
    "        f.write('OPENAI_API_KEY=votre_clé_api_openai\\n')\n",
    "        f.write('STABILITY_API_KEY=votre_clé_api_stability\\n')\n",
    "\n",
    "print(\"Veuillez éditer le fichier .env dans /content/drive/MyDrive/AutoTubeCPM/credentials/ pour ajouter vos clés API\")"
   ]
  },
  {
   "cell_type": "markdown",
   "metadata": {},
   "source": [
    "## 6. Vérification de l'installation"
   ]
  },
  {
   "cell_type": "code",
   "execution_count": null,
   "metadata": {},
   "outputs": [],
   "source": [
    "import torch\n",
    "import moviepy.editor as mp\n",
    "import streamlit as st\n",
    "import pandas as pd\n",
    "import numpy as np\n",
    "import matplotlib.pyplot as plt\n",
    "import plotly.express as px\n",
    "\n",
    "print(\"PyTorch version:\", torch.__version__)\n",
    "print(\"CUDA disponible:\", torch.cuda.is_available())\n",
    "if torch.cuda.is_available():\n",
    "    print(\"Appareil CUDA:\", torch.cuda.get_device_name(0))\n",
    "\n",
    "print(\"\\nToutes les dépendances sont correctement installées!\")"
   ]
  },
  {
   "cell_type": "markdown",
   "metadata": {},
   "source": [
    "## 7. Lancement de l'application Streamlit"
   ]
  },
  {
   "cell_type": "code",
   "execution_count": null,
   "metadata": {},
   "outputs": [],
   "source": [
    "!pip install pyngrok\n",
    "from pyngrok import ngrok\n",
    "\n",
    "# Lancer Streamlit avec ngrok pour y accéder depuis l'extérieur\n",
    "!streamlit run ui/app.py &>/dev/null&\n",
    "public_url = ngrok.connect(8501)\n",
    "print(f\"L'application Streamlit est accessible à l'adresse: {public_url}\")"
   ]
  }
 ],
 "metadata": {
  "kernelspec": {
   "display_name": "Python 3",
   "language": "python",
   "name": "python3"
  },
  "language_info": {
   "codemirror_mode": {
    "name": "ipython",
    "version": 3
   },
   "file_extension": ".py",
   "mimetype": "text/x-python",
   "name": "python",
   "nbconvert_exporter": "python",
   "pygments_lexer": "ipython3",
   "version": "3.8.10"
  }
 },
 "nbformat": 4,
 "nbformat_minor": 4
}
